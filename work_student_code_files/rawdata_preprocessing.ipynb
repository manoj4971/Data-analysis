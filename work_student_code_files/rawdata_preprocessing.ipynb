{
 "cells": [
  {
   "cell_type": "code",
   "execution_count": null,
   "metadata": {
    "collapsed": true
   },
   "outputs": [],
   "source": [
    "import heartbeat as hb\n",
    "import numpy as np\n",
    "import pandas as pd\n",
    "from sklearn.model_selection import TimeSeriesSplit\n",
    "TrainX=np.empty((0,12))\n",
    "TrainY=np.empty((0))\n",
    "Class={'Mild','Medium','High'}\n",
    "\n",
    "fs = 100\n"
   ]
  },
  {
   "cell_type": "code",
   "execution_count": 2,
   "metadata": {
    "collapsed": false
   },
   "outputs": [
    {
     "name": "stdout",
     "output_type": "stream",
     "text": [
      "Enter Stress level: high\n"
     ]
    },
    {
     "ename": "NameError",
     "evalue": "name 'pd' is not defined",
     "output_type": "error",
     "traceback": [
      "\u001b[0;31m---------------------------------------------------------------------------\u001b[0m",
      "\u001b[0;31mNameError\u001b[0m                                 Traceback (most recent call last)",
      "\u001b[0;32m<ipython-input-2-254c99ebef60>\u001b[0m in \u001b[0;36m<module>\u001b[0;34m()\u001b[0m\n\u001b[1;32m      9\u001b[0m             \u001b[0ms\u001b[0m\u001b[1;33m.\u001b[0m\u001b[0mappend\u001b[0m\u001b[1;33m(\u001b[0m\u001b[0mos\u001b[0m\u001b[1;33m.\u001b[0m\u001b[0mpath\u001b[0m\u001b[1;33m.\u001b[0m\u001b[0mjoin\u001b[0m\u001b[1;33m(\u001b[0m\u001b[0mroot\u001b[0m\u001b[1;33m,\u001b[0m \u001b[0mfile\u001b[0m\u001b[1;33m)\u001b[0m\u001b[1;33m)\u001b[0m\u001b[1;33m\u001b[0m\u001b[0m\n\u001b[1;32m     10\u001b[0m             \u001b[1;31m#print(s)\u001b[0m\u001b[1;33m\u001b[0m\u001b[1;33m\u001b[0m\u001b[0m\n\u001b[0;32m---> 11\u001b[0;31m \u001b[0mall_data\u001b[0m \u001b[1;33m=\u001b[0m \u001b[0mpd\u001b[0m\u001b[1;33m.\u001b[0m\u001b[0mDataFrame\u001b[0m\u001b[1;33m(\u001b[0m\u001b[1;33m)\u001b[0m\u001b[1;33m\u001b[0m\u001b[0m\n\u001b[0m\u001b[1;32m     12\u001b[0m \u001b[1;32mfor\u001b[0m \u001b[0mf\u001b[0m \u001b[1;32min\u001b[0m \u001b[0ms\u001b[0m\u001b[1;33m:\u001b[0m\u001b[1;33m\u001b[0m\u001b[0m\n\u001b[1;32m     13\u001b[0m     \u001b[1;31m#df = pd.read_excel(\"C:/Users/User/Desktop/mediumstress/anne index finger medium stress.xlsx\")\u001b[0m\u001b[1;33m\u001b[0m\u001b[1;33m\u001b[0m\u001b[0m\n",
      "\u001b[0;31mNameError\u001b[0m: name 'pd' is not defined"
     ]
    }
   ],
   "source": [
    "n=input('Enter Stress level: ')\n",
    "import os\n",
    "import glob\n",
    "s = []\n",
    "for root, dirs, files in os.walk(\"D:/highstress\"):\n",
    "    for file in files:\n",
    "        if file.endswith(\".xlsx\"):\n",
    "            #print(os.path.join(root, file))\n",
    "            s.append(os.path.join(root, file))\n",
    "            #print(s)\n",
    "all_data = pd.DataFrame()\n",
    "for f in s:\n",
    "    #df = pd.read_excel(\"C:/Users/User/Desktop/mediumstress/anne index finger medium stress.xlsx\")\n",
    "    data=pd.read_excel(f)\n",
    "    #data=hb.get_data('newppg.csv')\n",
    "    #\"C:/Users/User/Desktop/mediumstress/anne index finger medium stress.xlsx\"\n",
    "    #all_data = all_data.append(df,ignore_index=True)\n",
    "    data=np.array(data)\n",
    "    for i in range(len(data)):\n",
    "        measures = data[i:i+fs*10]\n",
    "    splits = TimeSeriesSplit(n_splits=100)\n",
    "\n",
    "##for train_index in splits.split(data):\n",
    "   \n"
   ]
  },
  {
   "cell_type": "code",
   "execution_count": 82,
   "metadata": {
    "collapsed": false
   },
   "outputs": [
    {
     "name": "stdout",
     "output_type": "stream",
     "text": [
      "(1, 1)\n"
     ]
    },
    {
     "ename": "AttributeError",
     "evalue": "'list' object has no attribute 'shape'",
     "output_type": "error",
     "traceback": [
      "\u001b[0;31m---------------------------------------------------------------------------\u001b[0m",
      "\u001b[0;31mAttributeError\u001b[0m                            Traceback (most recent call last)",
      "\u001b[0;32m<ipython-input-82-425e990a389f>\u001b[0m in \u001b[0;36m<module>\u001b[0;34m()\u001b[0m\n\u001b[1;32m      1\u001b[0m \u001b[0mprint\u001b[0m\u001b[1;33m(\u001b[0m\u001b[0mtrain_data\u001b[0m\u001b[1;33m.\u001b[0m\u001b[0mshape\u001b[0m\u001b[1;33m)\u001b[0m\u001b[1;33m\u001b[0m\u001b[0m\n\u001b[0;32m----> 2\u001b[0;31m \u001b[0mprint\u001b[0m\u001b[1;33m(\u001b[0m\u001b[0mtrain_label\u001b[0m\u001b[1;33m.\u001b[0m\u001b[0mshape\u001b[0m\u001b[1;33m)\u001b[0m\u001b[1;33m\u001b[0m\u001b[0m\n\u001b[0m\u001b[1;32m      3\u001b[0m \u001b[1;33m\u001b[0m\u001b[0m\n\u001b[1;32m      4\u001b[0m \u001b[0mprint\u001b[0m\u001b[1;33m(\u001b[0m\u001b[0mtrain_label\u001b[0m\u001b[1;33m)\u001b[0m\u001b[1;33m\u001b[0m\u001b[0m\n",
      "\u001b[0;31mAttributeError\u001b[0m: 'list' object has no attribute 'shape'"
     ]
    }
   ],
   "source": [
    "print(train_data.shape)\n",
    "print(train_label.shape)\n",
    "\n",
    "print(train_label)"
   ]
  },
  {
   "cell_type": "code",
   "execution_count": 58,
   "metadata": {
    "collapsed": false
   },
   "outputs": [
    {
     "name": "stdout",
     "output_type": "stream",
     "text": [
      "       sensordata\n",
      "0             378\n",
      "1             372\n",
      "2             373\n",
      "3             368\n",
      "4             371\n",
      "5             368\n",
      "6             370\n",
      "7             369\n",
      "8             368\n",
      "9             371\n",
      "10            373\n",
      "11            366\n",
      "12            371\n",
      "13            374\n",
      "14            368\n",
      "15            369\n",
      "16            365\n",
      "17            368\n",
      "18            362\n",
      "19            358\n",
      "20            352\n",
      "21            351\n",
      "22            346\n",
      "23            345\n",
      "24            345\n",
      "25            342\n",
      "26            343\n",
      "27            339\n",
      "28            343\n",
      "29            339\n",
      "...           ...\n",
      "20311         374\n",
      "20312         371\n",
      "20313         373\n",
      "20314         368\n",
      "20315         370\n",
      "20316         364\n",
      "20317         368\n",
      "20318         365\n",
      "20319         368\n",
      "20320         365\n",
      "20321         369\n",
      "20322         366\n",
      "20323         363\n",
      "20324         364\n",
      "20325         360\n",
      "20326         360\n",
      "20327         355\n",
      "20328         360\n",
      "20329         354\n",
      "20330         355\n",
      "20331         352\n",
      "20332         353\n",
      "20333         353\n",
      "20334         353\n",
      "20335         355\n",
      "20336         351\n",
      "20337         355\n",
      "20338         350\n",
      "20339         353\n",
      "20340         351\n",
      "\n",
      "[20341 rows x 1 columns]\n"
     ]
    }
   ],
   "source": [
    "import pandas as pd\n",
    "\n",
    "trainx_data = pd.DataFrame(train_data,columns=['sensordata'],dtype=int)\n",
    "print(trainx_data)"
   ]
  },
  {
   "cell_type": "code",
   "execution_count": 68,
   "metadata": {
    "collapsed": false
   },
   "outputs": [
    {
     "name": "stdout",
     "output_type": "stream",
     "text": [
      "    stress level\n",
      "0          20341\n",
      "1          20342\n",
      "2          20343\n",
      "3          20344\n",
      "4          20345\n",
      "5          20346\n",
      "6          20347\n",
      "7          20348\n",
      "8          20349\n",
      "9          20350\n",
      "10         20351\n",
      "11         20352\n",
      "12         20353\n",
      "13         20354\n",
      "14         20355\n",
      "15         20356\n",
      "16         20357\n",
      "17         20358\n",
      "18         20359\n",
      "19         20360\n",
      "20         20361\n",
      "21         20362\n",
      "22         20363\n",
      "23         20364\n",
      "24         20365\n",
      "25         20366\n",
      "26         20367\n",
      "27         20368\n",
      "28         20369\n",
      "29         20370\n",
      "..           ...\n",
      "174        20515\n",
      "175        20516\n",
      "176        20517\n",
      "177        20518\n",
      "178        20519\n",
      "179        20520\n",
      "180        20521\n",
      "181        20522\n",
      "182        20523\n",
      "183        20524\n",
      "184        20525\n",
      "185        20526\n",
      "186        20527\n",
      "187        20528\n",
      "188        20529\n",
      "189        20530\n",
      "190        20531\n",
      "191        20532\n",
      "192        20533\n",
      "193        20534\n",
      "194        20535\n",
      "195        20536\n",
      "196        20537\n",
      "197        20538\n",
      "198        20539\n",
      "199        20540\n",
      "200        20541\n",
      "201        20542\n",
      "202        20543\n",
      "203         mild\n",
      "\n",
      "[204 rows x 1 columns]\n",
      "(204, 1)\n"
     ]
    }
   ],
   "source": [
    "import pandas as pd\n",
    "trainy_data = pd.DataFrame(train_label,columns=['stress level'])\n",
    "print(trainy_data)\n",
    "print(trainy_data.shape)"
   ]
  },
  {
   "cell_type": "code",
   "execution_count": 69,
   "metadata": {
    "collapsed": false
   },
   "outputs": [],
   "source": [
    "import pandas as pd\n",
    "import csv\n",
    "import os\n",
    "labelled_data=[[trainx_data],[trainy_data]]\n",
    "stress_data=pd.concat([trainx_data,trainy_data],axis=1)\n",
    "stress_data.to_csv('rawdataafile.csv',sep=',')"
   ]
  },
  {
   "cell_type": "code",
   "execution_count": null,
   "metadata": {
    "collapsed": true
   },
   "outputs": [],
   "source": []
  }
 ],
 "metadata": {
  "anaconda-cloud": {},
  "kernelspec": {
   "display_name": "Python [conda env:Anaconda3]",
   "language": "python",
   "name": "conda-env-Anaconda3-py"
  },
  "language_info": {
   "codemirror_mode": {
    "name": "ipython",
    "version": 3
   },
   "file_extension": ".py",
   "mimetype": "text/x-python",
   "name": "python",
   "nbconvert_exporter": "python",
   "pygments_lexer": "ipython3",
   "version": "3.5.2"
  }
 },
 "nbformat": 4,
 "nbformat_minor": 1
}
