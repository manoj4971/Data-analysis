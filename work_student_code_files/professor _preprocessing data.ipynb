{
 "cells": [
  {
   "cell_type": "code",
   "execution_count": 1,
   "metadata": {},
   "outputs": [],
   "source": [
    "import numpy as np\n",
    "import pandas as pd\n"
   ]
  },
  {
   "cell_type": "code",
   "execution_count": 2,
   "metadata": {},
   "outputs": [],
   "source": [
    "import heartbeat as hb\n",
    "import numpy as np\n",
    "import pandas as pd\n",
    "TrainX=np.empty((0,12))\n",
    "TrainY=np.empty((0))\n",
    "Class={'Mild','Medium','High'}\n",
    "\n",
    "fs = 100\n"
   ]
  },
  {
   "cell_type": "code",
   "execution_count": 7,
   "metadata": {},
   "outputs": [
    {
     "name": "stdout",
     "output_type": "stream",
     "text": [
      "Enter Stress level: medium\n",
      "22157\n",
      "\n",
      "Finished in 0.006490 sec\n",
      "\n",
      "Finished in 0.005525 sec\n",
      "\n",
      "Finished in 0.005546 sec\n",
      "\n",
      "Finished in 0.005569 sec\n",
      "\n",
      "Finished in 0.005972 sec\n",
      "\n",
      "Finished in 0.006960 sec\n",
      "\n",
      "Finished in 0.006805 sec\n",
      "\n",
      "Finished in 0.005400 sec\n",
      "\n",
      "Finished in 0.006411 sec\n",
      "\n",
      "Finished in 0.007056 sec\n",
      "\n",
      "Finished in 0.005425 sec\n",
      "\n",
      "Finished in 0.005745 sec\n",
      "\n",
      "Finished in 0.007504 sec\n",
      "\n",
      "Finished in 0.006421 sec\n",
      "\n",
      "Finished in 0.007718 sec\n",
      "\n",
      "Finished in 0.006628 sec\n",
      "\n",
      "Finished in 0.006091 sec\n",
      "\n",
      "Finished in 0.005560 sec\n",
      "\n",
      "Finished in 0.006140 sec\n",
      "\n",
      "Finished in 0.005611 sec\n",
      "\n",
      "Finished in 0.005633 sec\n",
      "\n",
      "Finished in 0.005597 sec\n",
      "Please try again\n",
      "\n",
      "\n"
     ]
    }
   ],
   "source": [
    "n=input('Enter Stress level: ')\n",
    "data = hb.get_data('data.csv')\n",
    "print(len(data))\n",
    "\n",
    "for i in range(1,len(data),10*fs):\n",
    "    try :\n",
    "        measures = hb.process(data[i:i+10*fs],fs,report_time=True, calc_freq =True, interp_clipping=True, hampel_correct=False)\n",
    "        TrainX = np.append(TrainX,[[measures['bpm'],measures['rmssd'],measures['ibi'],measures['pnn20'],measures['pnn50'],measures['sdnn'],measures['sdsd'],measures['hr_mad'],measures['lf'],measures['hf'],measures['lf/hf'],measures['breathingrate']]], axis=0)\n",
    "        TrainY=np.append(TrainY,[n],axis=0)\n",
    "    except:\n",
    "        print(\"Please try again\")\n",
    "print('\\n')"
   ]
  },
  {
   "cell_type": "code",
   "execution_count": 12,
   "metadata": {},
   "outputs": [
    {
     "name": "stdout",
     "output_type": "stream",
     "text": [
      "['mild' 'mild' 'mild' 'mild' 'mild' 'mild' 'mild' 'mild' 'mild' 'mild'\n",
      " 'mild' 'mild' 'mild' 'mild' 'mild' 'mild' 'mild' 'mild' 'mild' 'mild'\n",
      " 'mild' 'mild' 'medium' 'medium' 'medium' 'medium' 'medium' 'medium'\n",
      " 'medium' 'medium' 'medium' 'medium' 'medium' 'medium' 'medium' 'medium'\n",
      " 'medium' 'medium' 'medium' 'medium' 'medium' 'medium' 'medium' 'medium']\n"
     ]
    }
   ],
   "source": [
    "#print(TrainX)\n",
    "#print(TrainY)\n",
    "#len(TrainX)\n",
    "print(TrainY)"
   ]
  },
  {
   "cell_type": "code",
   "execution_count": 73,
   "metadata": {},
   "outputs": [
    {
     "name": "stdout",
     "output_type": "stream",
     "text": [
      "          bpm       rmssd         ibi      sdnn      sdsd      pnn50  \\\n",
      "0   74.611399   64.173061  804.166667  0.818182  0.454545  58.374985   \n",
      "1   78.947368   58.542914  760.000000  0.818182  0.363636  63.639610   \n",
      "2   72.052402   90.609050  832.727273  0.700000  0.500000  64.960255   \n",
      "3   69.284065   98.994949  866.000000  0.888889  0.555556  63.435006   \n",
      "4   70.663812   67.007462  849.090909  0.800000  0.400000  55.670221   \n",
      "5   71.505959   48.785244  839.090909  0.600000  0.300000  59.917298   \n",
      "6   68.104427   71.724783  881.000000  0.666667  0.555556  57.349804   \n",
      "7   69.037657   53.758720  869.090909  0.800000  0.300000  33.153786   \n",
      "8   67.873303   62.804812  884.000000  0.777778  0.444444  47.581509   \n",
      "9   83.511777   75.608641  718.461538  0.833333  0.583333  67.692308   \n",
      "10  80.357143   71.159232  746.666667  0.727273  0.454545  85.764536   \n",
      "11  71.599045   42.687495  838.000000  0.555556  0.111111  31.240999   \n",
      "12  78.014184   73.348483  769.090909  0.700000  0.600000  55.178149   \n",
      "13  72.028812  120.462073  833.000000  1.000000  0.888889  87.641314   \n",
      "14  71.005917   76.666667  845.000000  0.888889  0.666667  93.621579   \n",
      "15  72.928177   67.230945  822.727273  0.800000  0.700000  46.140282   \n",
      "16  70.011669   79.721738  857.000000  0.888889  0.666667  68.709534   \n",
      "17  67.901235   59.749477  883.636364  0.700000  0.400000  53.133233   \n",
      "18  76.124567   67.082039  788.181818  0.600000  0.400000  68.995149   \n",
      "19  71.428571   96.020831  840.000000  0.900000  0.800000  79.544156   \n",
      "20  70.967742   66.105976  845.454545  0.500000  0.300000  68.538461   \n",
      "21  71.197411   87.349871  842.727273  0.800000  0.400000  58.011113   \n",
      "\n",
      "        pnn20  hr_mad   lf            hf  lf/hf  breathingrate  \n",
      "0   28.948515    40.0  0.0   6488.551345    0.0            0.3  \n",
      "1   33.253348    50.0  0.0   8720.400514    0.0            0.3  \n",
      "2   56.293872    50.0  0.0  24238.395467    0.0            0.4  \n",
      "3   55.131717    50.0  0.0  15967.835411    0.0            0.2  \n",
      "4   35.227830    30.0  0.0  12162.345032    0.0            0.3  \n",
      "5   27.928480    70.0  0.0   9676.547614    0.0            NaN  \n",
      "6   43.969687    25.0  0.0   4328.364870    0.0            0.3  \n",
      "7   26.095977    30.0  0.0   2499.535732    0.0            0.3  \n",
      "8   31.308895    30.0  0.0   5282.826555    0.0            0.3  \n",
      "9   41.298372    60.0  0.0  16933.758827    0.0            0.3  \n",
      "10  42.231162    40.0  0.0   3890.583130    0.0            0.2  \n",
      "11  23.622546    15.0  0.0   6253.503370    0.0            0.2  \n",
      "12  42.190046    40.0  0.0  12165.845849    0.0            0.4  \n",
      "13  40.824829    55.0  0.0  28650.547889    0.0            0.2  \n",
      "14  31.269438    85.0  0.0  14739.908288    0.0            0.2  \n",
      "15  30.331502    30.0  0.0   7100.594012    0.0            0.3  \n",
      "16  40.123267    40.0  0.0  24774.760626    0.0            0.2  \n",
      "17  31.128765    30.0  0.0   9612.042051    0.0            0.2  \n",
      "18  42.379240    70.0  0.0  11197.414526    0.0            0.3  \n",
      "19  42.708313    40.0  0.0  48048.631958    0.0            0.3  \n",
      "20  48.425200    60.0  0.0  20523.089540    0.0            NaN  \n",
      "21  53.563047    40.0  0.0  18269.811089    0.0            0.4  \n"
     ]
    }
   ],
   "source": [
    "import pandas as pd\n",
    "\n",
    "trainx_data = pd.DataFrame(TrainX,columns=['bpm','rmssd','ibi','sdnn','sdsd','pnn50','pnn20','hr_mad','lf','hf','lf/hf','breathingrate'],dtype=float)\n",
    "print(trainx_data)"
   ]
  },
  {
   "cell_type": "code",
   "execution_count": 68,
   "metadata": {},
   "outputs": [
    {
     "name": "stdout",
     "output_type": "stream",
     "text": [
      "   stress level\n",
      "0        medium\n",
      "1        medium\n",
      "2        medium\n",
      "3        medium\n",
      "4        medium\n",
      "5        medium\n",
      "6        medium\n",
      "7        medium\n",
      "8        medium\n",
      "9        medium\n",
      "10       medium\n",
      "11       medium\n",
      "12       medium\n",
      "13       medium\n",
      "14       medium\n",
      "15       medium\n",
      "16       medium\n",
      "17       medium\n",
      "18       medium\n",
      "19       medium\n",
      "20       medium\n",
      "21       medium\n",
      "22       medium\n"
     ]
    }
   ],
   "source": [
    "import pandas as pd\n",
    "trainy_data = pd.DataFrame(TrainY,columns=['stress level'])\n",
    "print(trainy_data)"
   ]
  },
  {
   "cell_type": "code",
   "execution_count": 74,
   "metadata": {
    "collapsed": true
   },
   "outputs": [],
   "source": [
    "import pandas as pd\n",
    "import csv\n",
    "import os\n",
    "labelled_data=[[trainx_data],[trainy_data]]\n",
    "stress_data=pd.concat([trainx_data,trainy_data],axis=1)\n",
    "stress_data.to_csv('saihighsubject.csv',sep=',')"
   ]
  },
  {
   "cell_type": "code",
   "execution_count": null,
   "metadata": {
    "collapsed": true
   },
   "outputs": [],
   "source": []
  }
 ],
 "metadata": {
  "anaconda-cloud": {},
  "kernelspec": {
   "display_name": "Python 3",
   "language": "python",
   "name": "python3"
  },
  "language_info": {
   "codemirror_mode": {
    "name": "ipython",
    "version": 3
   },
   "file_extension": ".py",
   "mimetype": "text/x-python",
   "name": "python",
   "nbconvert_exporter": "python",
   "pygments_lexer": "ipython3",
   "version": "3.6.8"
  }
 },
 "nbformat": 4,
 "nbformat_minor": 1
}
