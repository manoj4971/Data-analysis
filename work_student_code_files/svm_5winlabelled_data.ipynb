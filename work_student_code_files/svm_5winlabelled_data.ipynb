{
 "cells": [
  {
   "cell_type": "code",
   "execution_count": 2,
   "metadata": {},
   "outputs": [
    {
     "ename": "SyntaxError",
     "evalue": "invalid syntax (<ipython-input-2-df0bce0f264d>, line 3)",
     "output_type": "error",
     "traceback": [
      "\u001b[1;36m  File \u001b[1;32m\"<ipython-input-2-df0bce0f264d>\"\u001b[1;36m, line \u001b[1;32m3\u001b[0m\n\u001b[1;33m    from heartrate_analysis_python-master import heartbeat as hb\u001b[0m\n\u001b[1;37m                                  ^\u001b[0m\n\u001b[1;31mSyntaxError\u001b[0m\u001b[1;31m:\u001b[0m invalid syntax\n"
     ]
    }
   ],
   "source": [
    "import numpy as np \n",
    "import pandas as pd\n",
    "import heartbeat as hb"
   ]
  },
  {
   "cell_type": "code",
   "execution_count": null,
   "metadata": {},
   "outputs": [],
   "source": [
    "def labelled_data(m,win,a,b):\n",
    "    ### declare number of features we need to predict\n",
    "    features=np.empty((0,10))\n",
    "    \n",
    "    ### label the data\n",
    "    labels=np.empty((0))\n",
    "    \n",
    "    ### stress classification\n",
    "    Class={'Mild':0,'Medium':1,'High':2}\n",
    "\n",
    "    ### frequency per second(htz) of ppg sensor data\n",
    "    #n = input(\"enter the stress level\")\n",
    "    \n",
    "    fs = 100\n",
    "    label=0\n",
    "    if(m==0):\n",
    "        label = 0\n",
    "    if(m==1):\n",
    "        label = 1\n",
    "    if(m==2):\n",
    "        label = 2\n",
    "\n",
    "    combine_buffer = pd.DataFrame()\n",
    "    \n",
    "    for k in range(a,b):\n",
    "\n",
    "        data = pd.read_excel('Manoj_Thesis/RawData/p_{0}_S_{1}.xlsx'.format(k,m))\n",
    "\n",
    "\n",
    "        data = np.asarray(data)\n",
    "        data = data.reshape(len(data))\n",
    "\n",
    "        for j in range(1,len(data),10*fs):\n",
    "\n",
    "            try:\n",
    "\n",
    "                measures =  hb.process(data[j:j+10*fs],fs,report_time=True, \n",
    "                                       calc_freq =True, interp_clipping=True, hampel_correct=False)\n",
    "               \n",
    "                features = np.append(features,[[measures['bpm'],measures['rmssd'],measures['ibi'],\n",
    "                                                measures['pnn20'],measures['pnn50'],measures['sdnn'],\n",
    "                                                measures['sdsd'],measures['hr_mad'],measures['hf'],\n",
    "                                                measures['breathingrate']]], axis=0)\n",
    "                #features= series_to_supervised(np.asarray(features),win)\n",
    "                \n",
    "\n",
    "\n",
    "            except Exception as e:\n",
    "                print(\"Please try againffdsfdsde \")\n",
    "    return features\n",
    "                "
   ]
  },
  {
   "cell_type": "code",
   "execution_count": null,
   "metadata": {},
   "outputs": [],
   "source": [
    "mild_stress=labelled_data(m=0,win=5,a=5,b=23)\n",
    "medium_stress=labelled_data(m=1,win=5,a=5,b=23)\n",
    "high_stress=labelled_data(m=2,win=5,a=5,b=23)\n",
    "mild_stress=np.nan_to_num(mild_stress)\n",
    "medium_stress=np.nan_to_num(medium_stress)\n",
    "high_stress=np.nan_to_num(high_stress)\n",
    "#print(mild_stress[0:2])\n",
    "from sklearn.preprocessing import normalize\n",
    "mild_stress =normalize(mild_stress, axis = 0)\n",
    "medium_stress =normalize(medium_stress, axis = 0)\n",
    "high_stress =normalize(high_stress, axis = 0)\n",
    "#print(mild_stress[0:2])"
   ]
  },
  {
   "cell_type": "code",
   "execution_count": null,
   "metadata": {},
   "outputs": [],
   "source": [
    "\n",
    "                 \n",
    "                    \n",
    "\n",
    "def series_to(data, n_in,label):\n",
    "    series_x=np.empty((0,5,10))\n",
    "    series_y=np.empty((0))\n",
    "    for loop in range (data.shape[0]-4):\n",
    "        temp_series=np.empty((0,10))\n",
    "        for j in range (5):\n",
    "            temp_series=np.append(temp_series,[data[loop+j,:]],axis=0)\n",
    "       \n",
    "        \n",
    "        series_x=np.append(series_x,[temp_series],axis=0)\n",
    "        series_y=np.append(series_y,[label],axis=0)\n",
    "        \n",
    "    return series_x,series_y\n",
    "    \n",
    "    "
   ]
  },
  {
   "cell_type": "code",
   "execution_count": null,
   "metadata": {},
   "outputs": [],
   "source": [
    "train_x_mild,train_y_mild=series_to(mild_stress, 5,0)\n",
    "train_x_medium,train_y_medium=series_to(medium_stress, 5,1)\n",
    "train_x_high,train_y_high=series_to(high_stress, 5,2)\n",
    "#len(train_x_mild)\n",
    "#len(train_x_medium)\n",
    "#len(train_x_high)\n",
    "\n"
   ]
  },
  {
   "cell_type": "code",
   "execution_count": null,
   "metadata": {},
   "outputs": [],
   "source": [
    "Train_x=np.append(train_x_mild,train_x_medium,axis=0)\n",
    "Train_x=np.append(Train_x,train_x_high,axis=0)\n",
    "print(Train_x.shape)\n",
    "Train_x=np.nan_to_num(Train_x)\n",
    "print(Train_x.shape)\n",
    "print(np.isnan(Train_x).any())\n",
    "\n",
    "\n",
    "Train_y=np.append(train_y_mild,train_y_medium,axis=0)\n",
    "Train_y=np.append(train_x_medium,train_y_high,axis=0)\n",
    "Train_y=np.nan_to_num(Train_y)\n"
   ]
  },
  {
   "cell_type": "code",
   "execution_count": null,
   "metadata": {},
   "outputs": [],
   "source": [
    "\n",
    "from sklearn.preprocessing import LabelEncoder\n",
    "from keras import utils as np_utils\n",
    "encoder = LabelEncoder()\n",
    "\n",
    "### encoded for train_y data set \n",
    "encoder.fit(Train_y)\n",
    "encoded_train_ylabel = encoder.transform(Train_y)\n",
    "Train_y = np_utils.to_categorical(encoded_train_ylabel)\n"
   ]
  },
  {
   "cell_type": "code",
   "execution_count": null,
   "metadata": {},
   "outputs": [],
   "source": []
  },
  {
   "cell_type": "code",
   "execution_count": null,
   "metadata": {},
   "outputs": [],
   "source": [
    "mild_stress=labelled_data(m=0,win=5,a=1,b=5)\n",
    "medium_stress=labelled_data(m=1,win=5,a=1,b=5)\n",
    "high_stress=labelled_data(m=2,win=5,a=1,b=5)\n",
    "mild_stress=np.nan_to_num(mild_stress)\n",
    "medium_stress=np.nan_to_num(medium_stress)\n",
    "high_stress=np.nan_to_num(high_stress)\n",
    "#print(mild_stress[0:2])\n",
    "from sklearn.preprocessing import normalize\n",
    "mild_stress =normalize(mild_stress, axis = 0)\n",
    "medium_stress =normalize(medium_stress, axis = 0)\n",
    "high_stress =normalize(high_stress, axis = 0)\n",
    "#print(mild_stress[0:2])"
   ]
  },
  {
   "cell_type": "code",
   "execution_count": null,
   "metadata": {},
   "outputs": [],
   "source": [
    "test_x_mild,test_y_mild=series_to(mild_stress, 5,0)\n",
    "test_x_medium,test_y_medium=series_to(medium_stress, 5,1)\n",
    "test_x_high,test_y_high=series_to(high_stress, 5,2)\n",
    "\n",
    "print(test_x_mild.shape)\n",
    "#print(test_y_mild.shape)"
   ]
  },
  {
   "cell_type": "code",
   "execution_count": null,
   "metadata": {},
   "outputs": [],
   "source": [
    "Test_x=np.append(test_x_mild,test_x_medium,axis=0)\n",
    "Test_x=np.append(Test_x,test_x_high,axis=0)\n",
    "print(Test_x.shape)\n",
    "Test_x=np.nan_to_num(Test_x)\n",
    "print(Test_x.shape)\n",
    "#print(Test_x.shape)\n",
    "\n",
    "#print(ttemp_x)\n",
    "#print(ttemp_x.shape)\n",
    "#Test_x = np.isnan(ttemp_x)\n",
    "#print(Test_x)\n",
    "print(np.isnan(Test_x).any())\n",
    "#print(ttemp_x)\n",
    "\n",
    "Test_y=np.append(test_y_mild,test_y_medium,axis=0)\n",
    "#Test_y=np.append(Test_y,test_y_high,axis=0)\n",
    "\n"
   ]
  },
  {
   "cell_type": "code",
   "execution_count": null,
   "metadata": {},
   "outputs": [],
   "source": [
    "#Test_x= Test_x.reshape(Test_x.shape[0],Test_x.shape[1],1)\n",
    "#print(Test_x.shape)\n",
    "\n",
    "#### here we convert labelled_row data(eg:high_stress,medium_stress,mild_stress) in to int or float using label encoder function\n",
    "\n",
    "#train_yy = X['Label']\n",
    "encoder = LabelEncoder()\n",
    "\n",
    "### encoded for train_y data set \n",
    "encoder.fit(Test_y)\n",
    "\n",
    "encoded_train_ylabel = encoder.transform(Test_y)\n",
    "Test_y = np_utils.to_categorical(encoded_train_ylabel)\n"
   ]
  },
  {
   "cell_type": "code",
   "execution_count": null,
   "metadata": {},
   "outputs": [],
   "source": [
    "  def Base_models(self,X,Y,X_test,y_test):\n",
    "        print('Base model Random forest has been selected and ready for fitting ......')\n",
    "        clf=RandomForestClassifier(n_estimators=100, max_depth=10,random_state=0)\n",
    "        clf.fit(X,Y)\n",
    "        Base_score=self.clf.score(X_test,y_test)\n",
    "        print('The Accuracy is:')\n",
    "        print(self.Base_score)\n",
    "        print('the feature importance is (Speed-EngineSpeed-Gear-E_EngineSpeed-TargetSpeed-acceleration_calculated)')\n",
    "        print(self.clf.feature_importances_)\n",
    "        return Base_score\n",
    "\n",
    "\n",
    "    def Base_models_svm(X,Y,X_test,y_test):\n",
    "\n",
    "        print('Base model SVM has been selected and ready for fitting ......')\n",
    "        svmclf=svm.SVC()\n",
    "        svmclf.fit(X,Y)\n",
    "        print('SVM is fitted')\n",
    "        svmscore=self.svmclf.score(X_test,y_test)\n",
    "        print('The Accuracy is:')\n",
    "        print(svmscore)\n",
    "        return svmscore\n"
   ]
  },
  {
   "cell_type": "code",
   "execution_count": null,
   "metadata": {},
   "outputs": [],
   "source": [
    "Base_models_svm(X=Train_x,Y=Train_y,X_test=Test_x,y_test=Test_y)"
   ]
  }
 ],
 "metadata": {
  "kernelspec": {
   "display_name": "Python 3",
   "language": "python",
   "name": "python3"
  },
  "language_info": {
   "codemirror_mode": {
    "name": "ipython",
    "version": 3
   },
   "file_extension": ".py",
   "mimetype": "text/x-python",
   "name": "python",
   "nbconvert_exporter": "python",
   "pygments_lexer": "ipython3",
   "version": "3.6.8"
  }
 },
 "nbformat": 4,
 "nbformat_minor": 2
}
