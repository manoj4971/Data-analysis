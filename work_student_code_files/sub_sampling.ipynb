{
 "cells": [
  {
   "cell_type": "code",
   "execution_count": 4,
   "metadata": {},
   "outputs": [],
   "source": [
    "import numpy as np\n",
    "import pandas as pd"
   ]
  },
  {
   "cell_type": "code",
   "execution_count": 3,
   "metadata": {},
   "outputs": [],
   "source": [
    "for i in range(1,6):\n",
    "    for j in range(3):\n",
    "        raw_data = pd.read_excel('RawData/p_{0}_S_{1}.xlsx'.format(i,j))\n",
    "        raw_data = raw_data.rolling(window=100,axis=0)\n",
    "        raw_data = raw_data.max()\n",
    "       "
   ]
  },
  {
   "cell_type": "code",
   "execution_count": 15,
   "metadata": {},
   "outputs": [
    {
     "data": {
      "image/png": "[encoded data removed]",
      "text/plain": [
       "<matplotlib.figure.Figure at 0x1c2e9115668>"
      ]
     },
     "metadata": {},
     "output_type": "display_data"
    }
   ],
   "source": [
    "import matplotlib.pyplot as plt\n",
    "raw_data[98:].plot()\n",
    "plt.show()"
   ]
  },
  {
   "cell_type": "code",
   "execution_count": 14,
   "metadata": {},
   "outputs": [],
   "source": [
    "class DataGen():\n",
    "    \n",
    "    def __init__(self,win):\n",
    "        \n",
    "        \n",
    "        for j in range(1,7):\n",
    "            combine_buffer=pd.DataFrame()\n",
    "            for i in range(3):\n",
    "\n",
    "                self.raw_data=pd.read_excel('RawData/P_{1}_S_{0}.xlsx'.format(i,j))\n",
    "                #self.raw_data = self.raw_data.rolling(window=1000,axis=0)\n",
    "                #self.raw_data = self.raw_data.max()\n",
    "                self.raw_data=self.series_to_supervised(np.asarray(self.raw_data),win)\n",
    "                if(i==0):\n",
    "                    self.raw_data['Label']='Low_Stress'\n",
    "\n",
    "                if(i==1):\n",
    "\n",
    "                    self.raw_data['Label']='Medium_Stress'\n",
    "                if(i==2):\n",
    "\n",
    "                    self.raw_data['Label']='High_Stress'\n",
    "\n",
    "                combine_buffer=pd.concat([combine_buffer,self.raw_data])\n",
    "\n",
    "            combine_buffer.to_pickle('subsample_5000/P_{0}_win_{1}.csv'.format(j,win))\n",
    "        \n",
    "        \n",
    "        \n",
    "        \n",
    "    \n",
    "    def series_to_supervised(self,data, n_in=1, dropnan=True):\n",
    "\n",
    "\n",
    "\n",
    "\n",
    "        n_vars = 1 if type(data) is list else data.shape[1]\n",
    "        df = pd.DataFrame(data)\n",
    "        cols, names = list(), list()\n",
    "        # input sequence (t-n, ... t-1)\n",
    "        for i in range(n_in, 0, -1):\n",
    "            cols.append(df.shift(i))\n",
    "            names += [('var%d(t-%d)' % (j+1, i)) for j in range(n_vars)]\n",
    "        # put it all together\n",
    "        agg = pd.concat(cols, axis=1)\n",
    "        agg.columns = names\n",
    "        # drop rows with NaN values\n",
    "        if dropnan:\n",
    "            agg.dropna(inplace=True)\n",
    "\n",
    "        return agg"
   ]
  },
  {
   "cell_type": "code",
   "execution_count": 16,
   "metadata": {},
   "outputs": [
    {
     "data": {
      "text/plain": [
       "<__main__.DataGen at 0x25d933d0f28>"
      ]
     },
     "execution_count": 16,
     "metadata": {},
     "output_type": "execute_result"
    }
   ],
   "source": [
    "DataGen(5000)"
   ]
  },
  {
   "cell_type": "code",
   "execution_count": 23,
   "metadata": {},
   "outputs": [
    {
     "ename": "NameError",
     "evalue": "name 'combine_buffer' is not defined",
     "output_type": "error",
     "traceback": [
      "\u001b[0;31m---------------------------------------------------------------------------\u001b[0m",
      "\u001b[0;31mNameError\u001b[0m                                 Traceback (most recent call last)",
      "\u001b[0;32m<ipython-input-23-2c562b4eb07b>\u001b[0m in \u001b[0;36m<module>\u001b[0;34m()\u001b[0m\n\u001b[1;32m      1\u001b[0m \u001b[0mraw_data\u001b[0m\u001b[1;33m.\u001b[0m\u001b[0mshape\u001b[0m\u001b[1;33m\u001b[0m\u001b[0m\n\u001b[0;32m----> 2\u001b[0;31m \u001b[0mcombine_buffer\u001b[0m\u001b[1;33m.\u001b[0m\u001b[0mshape\u001b[0m\u001b[1;33m\u001b[0m\u001b[0m\n\u001b[0m",
      "\u001b[0;31mNameError\u001b[0m: name 'combine_buffer' is not defined"
     ]
    }
   ],
   "source": [
    "raw_data.shape\n",
    "combine_buffer.shape"
   ]
  },
  {
   "cell_type": "code",
   "execution_count": null,
   "metadata": {
    "collapsed": true
   },
   "outputs": [],
   "source": []
  }
 ],
 "metadata": {
  "kernelspec": {
   "display_name": "Python 3",
   "language": "python",
   "name": "python3"
  },
  "language_info": {
   "codemirror_mode": {
    "name": "ipython",
    "version": 3
   },
   "file_extension": ".py",
   "mimetype": "text/x-python",
   "name": "python",
   "nbconvert_exporter": "python",
   "pygments_lexer": "ipython3",
   "version": "3.6.8"
  }
 },
 "nbformat": 4,
 "nbformat_minor": 1
}
