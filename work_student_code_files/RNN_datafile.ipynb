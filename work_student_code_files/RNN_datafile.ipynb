{
 "cells": [
  {
   "cell_type": "code",
   "execution_count": null,
   "metadata": {
    "collapsed": true
   },
   "outputs": [],
   "source": [
    "import numpy as np\n",
    "import pandas as pd\n",
    "\n",
    "### fs is frequency per second(100) for ppgsensor \n",
    "fs = 100\n",
    "\n",
    "class Data_accquistion():\n",
    "    \n",
    "    \n",
    "    def _init_(self,raw_data,labels):\n",
    "        \n",
    "        self.raw_data= pd.ExcelFile(['D:/trainhighstress.xls','D:/trainmediumstress.xls','D:/trainmildstress.xls'])\n",
    "        self.labels = ['High','Medium','Mild']\n",
    "        self.raw_data.rename(columns= {0:'ppgdata'})\n",
    "        raw_data.isnull().sum()\n",
    "        for label,paths in enumerate(raw_data):\n",
    "            print(label)\n",
    "            print(paths)\n",
    "            \n",
    "            s[]\n",
    "            \n",
    " "
   ]
  },
  {
   "cell_type": "code",
   "execution_count": 16,
   "metadata": {
    "collapsed": false
   },
   "outputs": [],
   "source": [
    "           \n",
    "            \n",
    "            \n",
    "            s = []\n",
    "    for root, dirs, files in os.walk(path_x):\n",
    "        for file in files:\n",
    "            if file.endswith(\".xlsx\"):\n",
    "                #print(os.path.join(root, file))\n",
    "                s.append(os.path.join(root, file))\n",
    "            #print(s)\n",
    "    print(len(s))\n",
    "    \n",
    "        \n",
    "\n",
    "                \n",
    "\n",
    "        \n",
    "        \n",
    "        \n",
    "        \n",
    "        \n",
    "        \n",
    "        \n",
    "        \n",
    "        \n",
    "      \n",
    "\n",
    "    "
   ]
  },
  {
   "cell_type": "code",
   "execution_count": null,
   "metadata": {
    "collapsed": true
   },
   "outputs": [],
   "source": []
  }
 ],
 "metadata": {
  "anaconda-cloud": {},
  "kernelspec": {
   "display_name": "Python [conda env:Anaconda3]",
   "language": "python",
   "name": "conda-env-Anaconda3-py"
  },
  "language_info": {
   "codemirror_mode": {
    "name": "ipython",
    "version": 3
   },
   "file_extension": ".py",
   "mimetype": "text/x-python",
   "name": "python",
   "nbconvert_exporter": "python",
   "pygments_lexer": "ipython3",
   "version": "3.5.2"
  }
 },
 "nbformat": 4,
 "nbformat_minor": 1
}
