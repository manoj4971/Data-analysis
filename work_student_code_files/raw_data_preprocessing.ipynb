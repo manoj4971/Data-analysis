{
 "cells": [
  {
   "cell_type": "code",
   "execution_count": 1,
   "metadata": {},
   "outputs": [],
   "source": [
    "import numpy as np\n",
    "import pandas as pd"
   ]
  },
  {
   "cell_type": "code",
   "execution_count": 5,
   "metadata": {},
   "outputs": [],
   "source": [
    "class DataGen():\n",
    "    \n",
    "    def __init__(self,win):\n",
    "        \n",
    "        \"\"\"\"\"\"\n",
    "        for j in range(1,2):\n",
    "            combine_buffer=pd.DataFrame()\n",
    "            for i in range(1):\n",
    "\n",
    "                self.raw_data=pd.read_excel('RawData/P_{1}_S_{0}.xlsx'.format(i,j))\n",
    "                print(len(self.raw_data))\n",
    "                len(self.raw_data)\n",
    "                \n",
    "\n",
    "                self.raw_data=self.series_to_supervised(np.asarray(self.raw_data),win)\n",
    "                \n",
    "                if(i==0):\n",
    "                    self.raw_data['Label']='Low_Stress'\n",
    "\n",
    "                if(i==1):\n",
    "\n",
    "                    self.raw_data['Label']='Medium_Stress'\n",
    "                if(i==2):\n",
    "\n",
    "                    self.raw_data['Label']='High_Stress'\n",
    "\n",
    "                combine_buffer=pd.concat([combine_buffer,self.raw_data])\n",
    "\n",
    "            combine_buffer.to_csv('Datasets/P_{0}_win_{1}.csv'.format(j,win),index=False)\n",
    "        \n",
    "        \n",
    "        \n",
    "        \n",
    "    \n",
    "    def series_to_supervised(self,data, n_in=1, dropnan=True):\n",
    "\n",
    "\n",
    "\n",
    "\n",
    "        n_vars = 1 if type(data) is list else data.shape[1]\n",
    "        df = pd.DataFrame(data)\n",
    "        cols, names = list(), list()\n",
    "        # input sequence (t-n, ... t-1)\n",
    "        for i in range(n_in, 0, -1):\n",
    "            cols.append(df.shift(i))\n",
    "            names += [('var%d(t-%d)' % (j+1, i)) for j in range(n_vars)]\n",
    "        # put it all together\n",
    "        agg = pd.concat(cols, axis=1)\n",
    "        agg.columns = names\n",
    "        # drop rows with NaN values\n",
    "        if dropnan:\n",
    "            agg.dropna(inplace=True)\n",
    "\n",
    "        return agg"
   ]
  },
  {
   "cell_type": "code",
   "execution_count": 6,
   "metadata": {},
   "outputs": [
    {
     "name": "stdout",
     "output_type": "stream",
     "text": [
      "30126\n"
     ]
    }
   ],
   "source": [
    "ins=DataGen(1000)"
   ]
  },
  {
   "cell_type": "code",
   "execution_count": 7,
   "metadata": {},
   "outputs": [
    {
     "data": {
      "text/plain": [
       "29126"
      ]
     },
     "execution_count": 7,
     "metadata": {},
     "output_type": "execute_result"
    }
   ],
   "source": [
    "len(ins.raw_data)"
   ]
  },
  {
   "cell_type": "code",
   "execution_count": null,
   "metadata": {},
   "outputs": [],
   "source": [
    "P1=pd.read_csv('Datasets/P_1.csv')\n"
   ]
  },
  {
   "cell_type": "code",
   "execution_count": null,
   "metadata": {},
   "outputs": [],
   "source": [
    "P2=pd.read_csv('Datasets/P_8_Win_1000.csv')"
   ]
  },
  {
   "cell_type": "code",
   "execution_count": null,
   "metadata": {},
   "outputs": [],
   "source": []
  },
  {
   "cell_type": "code",
   "execution_count": null,
   "metadata": {},
   "outputs": [],
   "source": [
    "import tensorflow as tf\n",
    "\n",
    "from tensorflow.contrib import rnn\n",
    "from sklearn.ensemble import RandomForestClassifier\n",
    "from sklearn import svm\n"
   ]
  },
  {
   "cell_type": "code",
   "execution_count": null,
   "metadata": {},
   "outputs": [],
   "source": [
    "def LSTM_RNN_vx(X_train,Y_train,X_test,Y_test,units,epoch,batch_size,inputshape,lr=0.01):\n",
    "    #Modeling RNN-LSTM\n",
    "        model=tf.keras.Sequential()\n",
    "        model.add(tf.keras.layers.LSTM (units,activation = 'sigmoid',input_shape =inputshape, return_sequences = False))\n",
    "        \n",
    "        rms=tf.keras.optimizers.RMSprop(lr=lr)\n",
    "        model.compile(loss = 'categorical_crossentropy', optimizer = rms,metrics=['acc'])\n",
    "        hist=model.fit(X_train,Y_train,epochs=epoch,batch_size=batch_size,shuffle=True,validation_data=(X_test,Y_test))\n",
    "        Y_pred=model.predict(X_test)\n",
    "        return hist,Y_pred,model"
   ]
  },
  {
   "cell_type": "code",
   "execution_count": null,
   "metadata": {},
   "outputs": [],
   "source": [
    "L=P1['Label']"
   ]
  },
  {
   "cell_type": "code",
   "execution_count": null,
   "metadata": {},
   "outputs": [],
   "source": [
    "L2=P2['Label']"
   ]
  },
  {
   "cell_type": "code",
   "execution_count": null,
   "metadata": {},
   "outputs": [],
   "source": [
    "F=np.asarray(P1.drop('Label',axis=1))"
   ]
  },
  {
   "cell_type": "code",
   "execution_count": null,
   "metadata": {},
   "outputs": [],
   "source": [
    "F2=np.asarray(P2.drop('Label',axis=1))"
   ]
  },
  {
   "cell_type": "code",
   "execution_count": null,
   "metadata": {},
   "outputs": [],
   "source": [
    "from sklearn.preprocessing import LabelEncoder\n",
    "encoder = LabelEncoder()\n",
    "encoder.fit(L)\n",
    "encoded_train_label = encoder.transform(L)"
   ]
  },
  {
   "cell_type": "code",
   "execution_count": null,
   "metadata": {},
   "outputs": [],
   "source": [
    "encoder.fit(L2)\n",
    "encoded_train_label_2 = encoder.transform(L2)"
   ]
  },
  {
   "cell_type": "code",
   "execution_count": null,
   "metadata": {},
   "outputs": [],
   "source": [
    "F=F.reshape(F.shape[0],F.shape[1],1)"
   ]
  },
  {
   "cell_type": "code",
   "execution_count": null,
   "metadata": {},
   "outputs": [],
   "source": [
    "F2=F2.reshape(F2.shape[0],F2.shape[1],1)"
   ]
  },
  {
   "cell_type": "code",
   "execution_count": null,
   "metadata": {},
   "outputs": [],
   "source": [
    "from keras.utils import np_utils\n",
    "dummy_y = np_utils.to_categorical(encoded_train_label)"
   ]
  },
  {
   "cell_type": "code",
   "execution_count": null,
   "metadata": {},
   "outputs": [],
   "source": [
    "dummy_y2 = np_utils.to_categorical(encoded_train_label_2)"
   ]
  },
  {
   "cell_type": "code",
   "execution_count": null,
   "metadata": {},
   "outputs": [],
   "source": [
    "hist,Y_pred,model=LSTM_RNN_vx(X_train=F,Y_train=dummy_y,units=3,epoch=10,batch_size=500,inputshape=(1000,1),X_test=F2,Y_test=dummy_y2)"
   ]
  },
  {
   "cell_type": "code",
   "execution_count": null,
   "metadata": {},
   "outputs": [],
   "source": []
  }
 ],
 "metadata": {
  "anaconda-cloud": {},
  "kernelspec": {
   "display_name": "Python 3",
   "language": "python",
   "name": "python3"
  },
  "language_info": {
   "codemirror_mode": {
    "name": "ipython",
    "version": 3
   },
   "file_extension": ".py",
   "mimetype": "text/x-python",
   "name": "python",
   "nbconvert_exporter": "python",
   "pygments_lexer": "ipython3",
   "version": "3.6.8"
  }
 },
 "nbformat": 4,
 "nbformat_minor": 1
}
