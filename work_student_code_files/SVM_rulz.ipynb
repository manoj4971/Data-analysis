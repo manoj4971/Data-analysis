{
 "cells": [
  {
   "cell_type": "code",
   "execution_count": 1,
   "metadata": {},
   "outputs": [
    {
     "name": "stderr",
     "output_type": "stream",
     "text": [
      "Using TensorFlow backend.\n"
     ]
    }
   ],
   "source": [
    "import heartbeat as hb\n",
    "import numpy as np\n",
    "import pandas as pd\n",
    "import tensorflow as tf\n",
    "from keras.models import Sequential\n",
    "from keras.layers import Dense\n",
    "from keras.wrappers.scikit_learn import KerasClassifier\n",
    "from keras.utils import np_utils\n",
    "from sklearn.model_selection import cross_val_score\n",
    "from sklearn.model_selection import KFold\n",
    "from sklearn.preprocessing import LabelEncoder\n",
    "from sklearn.pipeline import Pipeline\n",
    "from sklearn.utils import shuffle\n",
    "from sklearn.model_selection import train_test_split as tts\n",
    "\n",
    "\n",
    "from sklearn.model_selection import TimeSeriesSplit\n",
    "import os\n",
    "import glob\n",
    "TrainX=np.empty((0,12))\n",
    "TrainY=np.empty((0))\n",
    "Class={'Mild','Medium','High'}\n",
    "\n",
    "fs = 100\n"
   ]
  },
  {
   "cell_type": "code",
   "execution_count": 2,
   "metadata": {},
   "outputs": [
    {
     "name": "stdout",
     "output_type": "stream",
     "text": [
      "0\n",
      "D:/highstress\n",
      "21\n",
      "(1, 23783)\n",
      "(1, 30207)\n",
      "(1, 23001)\n",
      "(1, 21779)\n",
      "(1, 24439)\n",
      "(1, 23312)\n",
      "(1, 23981)\n",
      "(1, 21746)\n",
      "(1, 16518)\n",
      "(1, 21783)\n",
      "(1, 22832)\n",
      "(1, 14296)\n",
      "(1, 11278)\n",
      "(1, 23306)\n",
      "(1, 24062)\n",
      "(1, 22892)\n",
      "(1, 22740)\n",
      "(1, 24352)\n",
      "(1, 20685)\n",
      "(1, 23188)\n",
      "(1, 20544)\n",
      "(450, 1000)\n",
      "1\n",
      "D:/mediumstress\n",
      "19\n",
      "(1, 22364)\n",
      "(1, 24507)\n",
      "(1, 21439)\n",
      "(1, 15225)\n",
      "(1, 21558)\n",
      "(1, 11386)\n",
      "(1, 15099)\n",
      "(1, 24369)\n",
      "(1, 22190)\n",
      "(1, 14102)\n",
      "(1, 12236)\n",
      "(1, 22883)\n",
      "(1, 14868)\n",
      "(1, 23070)\n",
      "(1, 24046)\n",
      "(1, 24453)\n",
      "(1, 20685)\n",
      "(1, 25472)\n",
      "(1, 23516)\n",
      "(826, 1000)\n",
      "2\n",
      "D:/mildstress\n",
      "22\n",
      "(1, 22364)\n",
      "(1, 27574)\n",
      "(1, 28319)\n",
      "(1, 28758)\n",
      "(1, 26456)\n",
      "(1, 26674)\n",
      "(1, 28085)\n",
      "(1, 29758)\n",
      "(1, 23783)\n",
      "(1, 30126)\n",
      "(1, 30207)\n",
      "(1, 15070)\n",
      "(1, 17350)\n",
      "(1, 27086)\n",
      "(1, 31349)\n",
      "(1, 28319)\n",
      "(1, 17338)\n",
      "(1, 28521)\n",
      "(1, 23597)\n",
      "(1, 26767)\n",
      "(1, 29036)\n",
      "(1, 28433)\n",
      "(1392, 1000)\n"
     ]
    }
   ],
   "source": [
    "import numpy \n",
    "import pandas\n",
    "seed = 7\n",
    "numpy.random.seed(seed)\n",
    "\n",
    "\n",
    "t_x=np.empty((0,1000))\n",
    "t_y=np.array([])\n",
    "paths=['D:/highstress','D:/mediumstress','D:/mildstress']\n",
    "labels=['High','Medium','Mild']\n",
    "for label,path_x in enumerate(paths):\n",
    "    print(label)\n",
    "    print(path_x)\n",
    "    ### here add all data files in to one list by using \"os.walk\" function from os library and append data in to s\n",
    "   \n",
    "    s = []\n",
    "    for root, dirs, files in os.walk(path_x):\n",
    "        for file in files:\n",
    "            if file.endswith(\".xlsx\"):\n",
    "                #print(os.path.join(root, file))\n",
    "                s.append(os.path.join(root, file))\n",
    "            #print(s)\n",
    "    print(len(s))\n",
    "    \n",
    "    #### h\n",
    "    \n",
    "\n",
    "\n",
    "    for f in s:\n",
    "        #data = pd.read_excel(\"D:/highstress/akhil index finger high stress.xlsx\")\n",
    "        data=pd.read_excel(f)\n",
    "        #data=hb.get_data('newppg.csv')\n",
    "        #\"C:/Users/User/Desktop/mediumstress/anne index finger medium stress.xlsx\"\n",
    "        #all_data = all_data.append(df,ignore_index=True)\n",
    "        \n",
    "        \n",
    "        \n",
    "        \n",
    "        ###here \"data--datafile\" is a DataFrame cannot be accessed through slicing,we should use iloc or .values functions \n",
    "\n",
    "        data=np.array([data.iloc[:,0].values])\n",
    "        print(data.shape)\n",
    "\n",
    "\n",
    "        for i in range(1,data.shape[1],10*fs):\n",
    "            \n",
    "            if(data[0,i:i+10*fs].dtype == 'int64'):\n",
    "                if(len(data[0,i:i+10*fs])== 1000):\n",
    "                    t_x=np.concatenate((t_x,data[0,i:i+10*fs].reshape((1,1000))))\n",
    "\n",
    "                    t_y=np.concatenate((t_y,[labels[label]]))\n",
    "            else:\n",
    "                print(f)\n",
    "    \n",
    "    print(t_x.shape)\n",
    "\n",
    "            \n",
    "       \n",
    "   \n",
    "          \n"
   ]
  },
  {
   "cell_type": "code",
   "execution_count": 3,
   "metadata": {},
   "outputs": [
    {
     "name": "stdout",
     "output_type": "stream",
     "text": [
      "0\n",
      "D:/testhighstress\n",
      "4\n",
      "(1, 22571)\n",
      "(1, 26856)\n",
      "(1, 30018)\n",
      "(1, 20676)\n",
      "(98, 1000)\n",
      "1\n",
      "D:/testmediumstress\n",
      "4\n",
      "(1, 15230)\n",
      "(1, 21276)\n",
      "(1, 23034)\n",
      "(1, 23205)\n",
      "(180, 1000)\n",
      "2\n",
      "D:/testmildstress\n",
      "4\n",
      "(1, 25774)\n",
      "(1, 26149)\n",
      "(1, 28270)\n",
      "(1, 27217)\n",
      "(286, 1000)\n"
     ]
    }
   ],
   "source": [
    "import numpy \n",
    "import pandas\n",
    "seed = 7\n",
    "numpy.random.seed(seed)\n",
    "\n",
    "\n",
    "test_x=np.empty((0,1000))\n",
    "test_y=np.array([])\n",
    "paths=['D:/testhighstress','D:/testmediumstress','D:/testmildstress']\n",
    "labels=['High','Medium','Mild']\n",
    "for label,path_x in enumerate(paths):\n",
    "    print(label)\n",
    "    print(path_x)\n",
    "    ### here add all data files in to one list by using \"os.walk\" function from os library and append data in to s\n",
    "   \n",
    "    s = []\n",
    "    for root, dirs, files in os.walk(path_x):\n",
    "        for file in files:\n",
    "            if file.endswith(\".xlsx\"):\n",
    "                #print(os.path.join(root, file))\n",
    "                s.append(os.path.join(root, file))\n",
    "            #print(s)\n",
    "    print(len(s))\n",
    "    \n",
    "    #### h\n",
    "    \n",
    "\n",
    "\n",
    "    for f in s:\n",
    "        #data = pd.read_excel(\"D:/highstress/akhil index finger high stress.xlsx\")\n",
    "        data=pd.read_excel(f)\n",
    "        #data=hb.get_data('newppg.csv')\n",
    "        #\"C:/Users/User/Desktop/mediumstress/anne index finger medium stress.xlsx\"\n",
    "        #all_data = all_data.append(df,ignore_index=True)\n",
    "        \n",
    "        \n",
    "        \n",
    "        \n",
    "        ###here \"data--datafile\" is a DataFrame cannot be accessed through slicing,we should use iloc or .values functions \n",
    "\n",
    "        data=np.array([data.iloc[:,0].values])\n",
    "        print(data.shape)\n",
    "\n",
    "\n",
    "        for i in range(1,data.shape[1],10*fs):\n",
    "            \n",
    "            if(data[0,i:i+10*fs].dtype == 'int64'):\n",
    "                if(len(data[0,i:i+10*fs])== 1000):\n",
    "                    test_x=np.concatenate((test_x,data[0,i:i+10*fs].reshape((1,1000))))\n",
    "\n",
    "                    test_y=np.concatenate((test_y,[labels[label]]))\n",
    "            else:\n",
    "                print(f)\n",
    "    \n",
    "    print(test_x.shape)\n",
    "\n",
    "            \n",
    "       \n",
    "   \n",
    "          \n",
    "\n",
    "       \n",
    "   \n",
    "          \n"
   ]
  },
  {
   "cell_type": "code",
   "execution_count": 4,
   "metadata": {},
   "outputs": [
    {
     "name": "stdout",
     "output_type": "stream",
     "text": [
      "(1392, 1000)\n",
      "(1392,)\n",
      "(286, 1000)\n",
      "(286,)\n",
      "450\n",
      "376\n",
      "566\n"
     ]
    },
    {
     "ename": "AttributeError",
     "evalue": "'numpy.ndarray' object has no attribute 'head'",
     "output_type": "error",
     "traceback": [
      "\u001b[0;31m---------------------------------------------------------------------------\u001b[0m",
      "\u001b[0;31mAttributeError\u001b[0m                            Traceback (most recent call last)",
      "\u001b[0;32m<ipython-input-4-1e9364f5e400>\u001b[0m in \u001b[0;36m<module>\u001b[0;34m()\u001b[0m\n\u001b[1;32m     10\u001b[0m \u001b[0mprint\u001b[0m\u001b[1;33m(\u001b[0m\u001b[0mnp\u001b[0m\u001b[1;33m.\u001b[0m\u001b[0mcount_nonzero\u001b[0m\u001b[1;33m(\u001b[0m\u001b[0mt_y\u001b[0m\u001b[1;33m==\u001b[0m\u001b[1;34m'Medium'\u001b[0m\u001b[1;33m)\u001b[0m\u001b[1;33m)\u001b[0m\u001b[1;33m\u001b[0m\u001b[0m\n\u001b[1;32m     11\u001b[0m \u001b[0mprint\u001b[0m\u001b[1;33m(\u001b[0m\u001b[0mnp\u001b[0m\u001b[1;33m.\u001b[0m\u001b[0mcount_nonzero\u001b[0m\u001b[1;33m(\u001b[0m\u001b[0mt_y\u001b[0m\u001b[1;33m==\u001b[0m\u001b[1;34m'Mild'\u001b[0m\u001b[1;33m)\u001b[0m\u001b[1;33m)\u001b[0m\u001b[1;33m\u001b[0m\u001b[0m\n\u001b[0;32m---> 12\u001b[0;31m \u001b[0mt_x\u001b[0m\u001b[1;33m.\u001b[0m\u001b[0mhead\u001b[0m\u001b[1;33m(\u001b[0m\u001b[1;33m)\u001b[0m\u001b[1;33m\u001b[0m\u001b[0m\n\u001b[0m",
      "\u001b[0;31mAttributeError\u001b[0m: 'numpy.ndarray' object has no attribute 'head'"
     ]
    }
   ],
   "source": [
    "print(t_x.shape)\n",
    "print(t_y.shape)\n",
    "print(test_x.shape)\n",
    "print(test_y.shape)\n",
    "##trainCNN_x=np.array([x[0:961].reshape((31,31,1)) for x in t_x])\n",
    "##print(trainCNN_x.shape)\n",
    "##testCNN_x=np.array([x[0:961].reshape((31,31,1)) for x in test_x])\n",
    "##print(testCNN_x.shape)\n",
    "print(np.count_nonzero(t_y=='High'))\n",
    "print(np.count_nonzero(t_y=='Medium'))\n",
    "print(np.count_nonzero(t_y=='Mild'))\n",
    "t_x.head()"
   ]
  },
  {
   "cell_type": "code",
   "execution_count": 5,
   "metadata": {},
   "outputs": [
    {
     "data": {
      "text/plain": [
       "LinearSVC(C=1.0, class_weight=None, dual=True, fit_intercept=True,\n",
       "     intercept_scaling=1, loss='squared_hinge', max_iter=1000,\n",
       "     multi_class='ovr', penalty='l2', random_state=None, tol=0.0001,\n",
       "     verbose=0)"
      ]
     },
     "execution_count": 5,
     "metadata": {},
     "output_type": "execute_result"
    }
   ],
   "source": [
    "from sklearn import svm\n",
    "lin_clf = svm.LinearSVC()\n",
    "lin_clf.fit(t_x,t_y) "
   ]
  },
  {
   "cell_type": "code",
   "execution_count": 6,
   "metadata": {},
   "outputs": [
    {
     "name": "stdout",
     "output_type": "stream",
     "text": [
      "0.3811188811188811\n"
     ]
    }
   ],
   "source": [
    "test_score=lin_clf.score(test_x,test_y)\n",
    "print(test_score)"
   ]
  },
  {
   "cell_type": "code",
   "execution_count": null,
   "metadata": {
    "collapsed": true
   },
   "outputs": [],
   "source": []
  }
 ],
 "metadata": {
  "anaconda-cloud": {},
  "kernelspec": {
   "display_name": "Python 3",
   "language": "python",
   "name": "python3"
  },
  "language_info": {
   "codemirror_mode": {
    "name": "ipython",
    "version": 3
   },
   "file_extension": ".py",
   "mimetype": "text/x-python",
   "name": "python",
   "nbconvert_exporter": "python",
   "pygments_lexer": "ipython3",
   "version": "3.6.8"
  }
 },
 "nbformat": 4,
 "nbformat_minor": 1
}
