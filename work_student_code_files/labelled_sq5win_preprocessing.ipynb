{
 "cells": [
  {
   "cell_type": "code",
   "execution_count": 1,
   "metadata": {},
   "outputs": [
    {
     "ename": "ModuleNotFoundError",
     "evalue": "No module named 'heartbeat'",
     "output_type": "error",
     "traceback": [
      "\u001b[1;31m---------------------------------------------------------------------------\u001b[0m",
      "\u001b[1;31mModuleNotFoundError\u001b[0m                       Traceback (most recent call last)",
      "\u001b[1;32m<ipython-input-1-f5d7ef254802>\u001b[0m in \u001b[0;36m<module>\u001b[1;34m\u001b[0m\n\u001b[0;32m      1\u001b[0m \u001b[1;32mimport\u001b[0m \u001b[0mnumpy\u001b[0m \u001b[1;32mas\u001b[0m \u001b[0mnp\u001b[0m\u001b[1;33m\u001b[0m\u001b[1;33m\u001b[0m\u001b[0m\n\u001b[0;32m      2\u001b[0m \u001b[1;32mimport\u001b[0m \u001b[0mpandas\u001b[0m \u001b[1;32mas\u001b[0m \u001b[0mpd\u001b[0m\u001b[1;33m\u001b[0m\u001b[1;33m\u001b[0m\u001b[0m\n\u001b[1;32m----> 3\u001b[1;33m \u001b[1;32mimport\u001b[0m \u001b[0mheartbeat\u001b[0m \u001b[1;32mas\u001b[0m \u001b[0mhb\u001b[0m\u001b[1;33m\u001b[0m\u001b[1;33m\u001b[0m\u001b[0m\n\u001b[0m",
      "\u001b[1;31mModuleNotFoundError\u001b[0m: No module named 'heartbeat'"
     ]
    }
   ],
   "source": [
    "import numpy as np\n",
    "import pandas as pd\n",
    "import heartbeat as hb\n"
   ]
  },
  {
   "cell_type": "code",
   "execution_count": null,
   "metadata": {},
   "outputs": [],
   "source": []
  },
  {
   "cell_type": "code",
   "execution_count": null,
   "metadata": {},
   "outputs": [],
   "source": [
    "import numpy as np \n",
    "import pandas as pd\n",
    "import heartbeat as hb\n",
    "\n",
    "def labelled_data():\n",
    "    ### declare number of features we need to predict\n",
    "    features=np.empty((0,2))\n",
    "    \n",
    "    ### label the data\n",
    "    labels=np.empty((0))\n",
    "    \n",
    "    ### stress classification\n",
    "    Class={'Mild','Medium','High'}\n",
    "\n",
    "    ### frequency per second(htz) of ppg sensor data\n",
    "    n = input(\"enter the stress level\")\n",
    "    fs = 100\n",
    "    data = []\n",
    "    combine_buffer = []\n",
    "    for i in range(3):\n",
    "        data = pd.read_excel('RawData/P_1_S_{0}.xlsx'.format(i))\n",
    "       \n",
    "        data.head()\n",
    "        data = np.asarray(data)\n",
    "        data = data.reshape(len(data))\n",
    "        for j in range(1,len(data),1*fs):\n",
    "            try:\n",
    "                \n",
    "                measures =  hb.process(data[j:j+1*fs],fs,report_time=True, calc_freq =True, interp_clipping=True, hampel_correct=False)\n",
    "                features = np.append(features,[[measures ['bpm'],measures['breathingrate']]], axis=0)\n",
    "                \n",
    "                if(i==0):\n",
    "                    data['label'] = 'mild_stress'\n",
    "                if(i==1):\n",
    "                        data['label'] = 'medium_stress'\n",
    "                if(i==2):\n",
    "                        data['label'] = 'high_stress'\n",
    "                \n",
    "                combine_buffer=pd.concat([combine_buffer,features])\n",
    "                        \n",
    "                \n",
    "            \n",
    "                                     \n",
    "            except Exception as e:\n",
    "                print(\"Please try again \")\n",
    "        \n",
    "       \n",
    "        \n",
    "    \n",
    "    \n",
    "\n"
   ]
  }
 ],
 "metadata": {
  "kernelspec": {
   "display_name": "Python 3",
   "language": "python",
   "name": "python3"
  },
  "language_info": {
   "codemirror_mode": {
    "name": "ipython",
    "version": 3
   },
   "file_extension": ".py",
   "mimetype": "text/x-python",
   "name": "python",
   "nbconvert_exporter": "python",
   "pygments_lexer": "ipython3",
   "version": "3.6.8"
  }
 },
 "nbformat": 4,
 "nbformat_minor": 2
}
